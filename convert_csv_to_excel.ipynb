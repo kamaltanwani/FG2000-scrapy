{
 "cells": [
  {
   "cell_type": "code",
   "execution_count": 1,
   "metadata": {
    "collapsed": true
   },
   "outputs": [],
   "source": [
    "import pandas as pd\n",
    "import numpy as np\n",
    "\n",
    "import math\n",
    "import re\n",
    "\n",
    "import datetime\n",
    "\n",
    "from openpyxl import load_workbook"
   ]
  },
  {
   "cell_type": "code",
   "execution_count": null,
   "metadata": {
    "collapsed": false
   },
   "outputs": [],
   "source": []
  },
  {
   "cell_type": "code",
   "execution_count": 2,
   "metadata": {
    "collapsed": false
   },
   "outputs": [],
   "source": [
    "df = pd.read_csv(\"./output/2017_Forbes_G2000_dump.csv\")\n",
    "rnk = df.Rank\n",
    "emp = df.Employees\n",
    "sls = df.Sales\n",
    "rvnu = df.Revenue\n",
    "assts = df.Assets\n",
    "prft = df.Profit"
   ]
  },
  {
   "cell_type": "code",
   "execution_count": null,
   "metadata": {
    "collapsed": false
   },
   "outputs": [],
   "source": []
  },
  {
   "cell_type": "code",
   "execution_count": 3,
   "metadata": {
    "collapsed": false,
    "scrolled": true
   },
   "outputs": [
    {
     "name": "stderr",
     "output_type": "stream",
     "text": [
      "C:\\Users\\SDAravind\\AppData\\Local\\Continuum\\Anaconda3\\lib\\site-packages\\ipykernel\\__main__.py:5: SettingWithCopyWarning: \n",
      "A value is trying to be set on a copy of a slice from a DataFrame\n",
      "\n",
      "See the caveats in the documentation: http://pandas.pydata.org/pandas-docs/stable/indexing.html#indexing-view-versus-copy\n"
     ]
    }
   ],
   "source": [
    "#Convert Ranks to Numeric\n",
    "\n",
    "for i in range(0,len(rnk)):\n",
    "    try:\n",
    "        rnk[i] = int(rnk[i].replace(',',''))\n",
    "    except:\n",
    "        rnk[i] = int(rnk[i])\n",
    "#print(\"Ranking Done\")"
   ]
  },
  {
   "cell_type": "code",
   "execution_count": 4,
   "metadata": {
    "collapsed": false
   },
   "outputs": [
    {
     "name": "stderr",
     "output_type": "stream",
     "text": [
      "C:\\Users\\SDAravind\\AppData\\Local\\Continuum\\Anaconda3\\lib\\site-packages\\ipykernel\\__main__.py:4: SettingWithCopyWarning: \n",
      "A value is trying to be set on a copy of a slice from a DataFrame\n",
      "\n",
      "See the caveats in the documentation: http://pandas.pydata.org/pandas-docs/stable/indexing.html#indexing-view-versus-copy\n"
     ]
    }
   ],
   "source": [
    "#Convert Employees number to Numeric\n",
    "for i in range(0, len(emp)):\n",
    "    try:\n",
    "        emp[i] = int(emp[i].replace(',',''))\n",
    "    except:\n",
    "        if emp[i] is None:\n",
    "            emp[i] = ''\n",
    "        pass #print(emp[i])\n",
    "#print(\"Employees Done\")"
   ]
  },
  {
   "cell_type": "code",
   "execution_count": null,
   "metadata": {
    "collapsed": false
   },
   "outputs": [],
   "source": []
  },
  {
   "cell_type": "code",
   "execution_count": 5,
   "metadata": {
    "collapsed": false
   },
   "outputs": [
    {
     "name": "stderr",
     "output_type": "stream",
     "text": [
      "C:\\Users\\SDAravind\\AppData\\Local\\Continuum\\Anaconda3\\lib\\site-packages\\ipykernel\\__main__.py:7: SettingWithCopyWarning: \n",
      "A value is trying to be set on a copy of a slice from a DataFrame\n",
      "\n",
      "See the caveats in the documentation: http://pandas.pydata.org/pandas-docs/stable/indexing.html#indexing-view-versus-copy\n",
      "C:\\Users\\SDAravind\\AppData\\Local\\Continuum\\Anaconda3\\lib\\site-packages\\ipykernel\\__main__.py:9: SettingWithCopyWarning: \n",
      "A value is trying to be set on a copy of a slice from a DataFrame\n",
      "\n",
      "See the caveats in the documentation: http://pandas.pydata.org/pandas-docs/stable/indexing.html#indexing-view-versus-copy\n"
     ]
    }
   ],
   "source": [
    "#Convert Sales into absolute numbers\n",
    "for i in range(len(sls)):\n",
    "    try:\n",
    "        n = re.split('(\\s)', sls[i], 1)\n",
    "        n = n[0]\n",
    "        if \"B\" in sls[i]:\n",
    "            sls[i] = float(n.strip('$').replace(',',''))*pow(10,9)\n",
    "        elif \"M\" in sls[i]:\n",
    "            sls[i] = float(n.strip('$').replace(',',''))*pow(10,6)\n",
    "    except:\n",
    "        if sls[i] is None:\n",
    "            sls[i] = ''"
   ]
  },
  {
   "cell_type": "code",
   "execution_count": 7,
   "metadata": {
    "collapsed": false
   },
   "outputs": [],
   "source": [
    "#Convert Revenue into absolute numbers\n",
    "for i in range(len(rvnu)):\n",
    "    try:\n",
    "        n = re.split('(\\s)', rvnu[i], 1)\n",
    "        n = n[0]\n",
    "        if \"B\" in rvnu[i]:\n",
    "            rvnu[i] = float(n.strip('$').replace(',',''))*pow(10,9)\n",
    "        elif \"M\" in rvnu[i]:\n",
    "            rvnu[i] = float(n.strip('$').replace(',',''))*pow(10,6)\n",
    "    except:\n",
    "        if rvnu[i] is None:\n",
    "            rvnu[i] = ''"
   ]
  },
  {
   "cell_type": "code",
   "execution_count": 8,
   "metadata": {
    "collapsed": false
   },
   "outputs": [
    {
     "name": "stderr",
     "output_type": "stream",
     "text": [
      "C:\\Users\\SDAravind\\AppData\\Local\\Continuum\\Anaconda3\\lib\\site-packages\\ipykernel\\__main__.py:7: SettingWithCopyWarning: \n",
      "A value is trying to be set on a copy of a slice from a DataFrame\n",
      "\n",
      "See the caveats in the documentation: http://pandas.pydata.org/pandas-docs/stable/indexing.html#indexing-view-versus-copy\n",
      "C:\\Users\\SDAravind\\AppData\\Local\\Continuum\\Anaconda3\\lib\\site-packages\\ipykernel\\__main__.py:9: SettingWithCopyWarning: \n",
      "A value is trying to be set on a copy of a slice from a DataFrame\n",
      "\n",
      "See the caveats in the documentation: http://pandas.pydata.org/pandas-docs/stable/indexing.html#indexing-view-versus-copy\n"
     ]
    }
   ],
   "source": [
    "#Convert Assets into absolute numbers\n",
    "for i in range(len(assts)):\n",
    "    try:\n",
    "        n = re.split('(\\s)', assts[i], 1)\n",
    "        n = n[0]\n",
    "        if \"B\" in assts[i]:\n",
    "            assts[i] = float(n.strip('$').replace(',',''))*pow(10,9)\n",
    "        elif \"M\" in assts[i]:\n",
    "            assts[i] = float(n.strip('$').replace(',',''))*pow(10,6)\n",
    "    except:\n",
    "        if assts[i] is None:\n",
    "            assts[i] = ''"
   ]
  },
  {
   "cell_type": "code",
   "execution_count": 9,
   "metadata": {
    "collapsed": false
   },
   "outputs": [
    {
     "name": "stderr",
     "output_type": "stream",
     "text": [
      "C:\\Users\\SDAravind\\AppData\\Local\\Continuum\\Anaconda3\\lib\\site-packages\\ipykernel\\__main__.py:7: SettingWithCopyWarning: \n",
      "A value is trying to be set on a copy of a slice from a DataFrame\n",
      "\n",
      "See the caveats in the documentation: http://pandas.pydata.org/pandas-docs/stable/indexing.html#indexing-view-versus-copy\n",
      "C:\\Users\\SDAravind\\AppData\\Local\\Continuum\\Anaconda3\\lib\\site-packages\\ipykernel\\__main__.py:9: SettingWithCopyWarning: \n",
      "A value is trying to be set on a copy of a slice from a DataFrame\n",
      "\n",
      "See the caveats in the documentation: http://pandas.pydata.org/pandas-docs/stable/indexing.html#indexing-view-versus-copy\n"
     ]
    }
   ],
   "source": [
    "#Convert Profit into absolute numbers\n",
    "for i in range(len(prft)):\n",
    "    try:\n",
    "        #if isinstance(prft[i], str):\n",
    "            prft[i] = int(prft[i])\n",
    "        #else:\n",
    "        n = re.split('(\\s)', prft[i], 1)\n",
    "        n = n[0]\n",
    "        if \"B\" in prft[i]:\n",
    "            prft[i] = float(n.strip('$').replace(',',''))*pow(10,9)\n",
    "        elif \"M\" in prft[i]:\n",
    "            prft[i] = float(n.strip('$').replace(',',''))*pow(10,6)\n",
    "    except:\n",
    "        if prft[i] is None:\n",
    "            prft[i] = ''"
   ]
  },
  {
   "cell_type": "code",
   "execution_count": 10,
   "metadata": {
    "collapsed": true
   },
   "outputs": [],
   "source": [
    "df.sort_values(by=\"Rank\", axis=0, ascending=True, kind=\"mergesort\", inplace=True)"
   ]
  },
  {
   "cell_type": "code",
   "execution_count": 11,
   "metadata": {
    "collapsed": false
   },
   "outputs": [],
   "source": [
    "#Get Current Date and Time\n",
    "\n",
    "d = datetime.date.today() #get date\n",
    "month = d.strftime(\"%b\")\n",
    "year = d.strftime(\"%Y\")\n",
    "day = d.strftime(\"%d\")\n",
    "t = datetime.datetime.now() #get time\n",
    "hours = str(t.hour)\n",
    "minutes = str(t.minute)\n",
    "\n",
    "#Export to Excel\n",
    "\n",
    "df.iloc[:,:15].to_excel(\"./output/2017_Forbes_G2000_\"+ year + month + day + '_' + hours + minutes +\".xlsx\", index = False, sheet_name=\"2017 Forbes G2000\")"
   ]
  },
  {
   "cell_type": "code",
   "execution_count": 71,
   "metadata": {
    "collapsed": false
   },
   "outputs": [],
   "source": [
    "s = \"-$2,349.38 B\"\n",
    "m = re.split(\"\\-\", s, 1)[1].replace('$','')\n",
    "m = float(re.split('\\s', m, 1)[0].replace(',',''))*-pow(10, 9)"
   ]
  },
  {
   "cell_type": "code",
   "execution_count": null,
   "metadata": {
    "collapsed": false
   },
   "outputs": [],
   "source": []
  },
  {
   "cell_type": "code",
   "execution_count": null,
   "metadata": {
    "collapsed": false
   },
   "outputs": [],
   "source": []
  },
  {
   "cell_type": "code",
   "execution_count": null,
   "metadata": {
    "collapsed": true
   },
   "outputs": [],
   "source": []
  },
  {
   "cell_type": "code",
   "execution_count": null,
   "metadata": {
    "collapsed": true
   },
   "outputs": [],
   "source": []
  }
 ],
 "metadata": {
  "kernelspec": {
   "display_name": "Python 3",
   "language": "python",
   "name": "python3"
  },
  "language_info": {
   "codemirror_mode": {
    "name": "ipython",
    "version": 3
   },
   "file_extension": ".py",
   "mimetype": "text/x-python",
   "name": "python",
   "nbconvert_exporter": "python",
   "pygments_lexer": "ipython3",
   "version": "3.6.0"
  }
 },
 "nbformat": 4,
 "nbformat_minor": 2
}
